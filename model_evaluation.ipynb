{
 "cells": [
  {
   "cell_type": "code",
   "execution_count": 1,
   "id": "5d7de699",
   "metadata": {},
   "outputs": [],
   "source": [
    "import pandas as pd"
   ]
  },
  {
   "cell_type": "markdown",
   "id": "5896c35a",
   "metadata": {},
   "source": [
    "2) **Given the following confusion matrix, evaluate (by hand) the model's performance.**\n",
    "\n",
    "                pred dog\tpred cat\n",
    "    actual dog\t    46\t       7\n",
    "    actual cat\t    13\t       34\n",
    "\n",
    "\n",
    "- In the context of this problem, what is a false positive?\n",
    "- In the context of this problem, what is a false negative?\n",
    "- How would you describe this model?"
   ]
  },
  {
   "cell_type": "code",
   "execution_count": 2,
   "id": "f3ba50a1",
   "metadata": {},
   "outputs": [],
   "source": [
    "# cat = positive class\n",
    "# dog = negative class\n",
    "\n",
    "# False positive: We predicted cat, but it is actually a dog\n",
    "# False negative: We predicted dog, but it is actually a cat\n",
    "\n",
    "tp = 34\n",
    "tn = 46\n",
    "fp = 7\n",
    "fn = 13\n"
   ]
  },
  {
   "cell_type": "code",
   "execution_count": 3,
   "id": "6e123e1f",
   "metadata": {},
   "outputs": [
    {
     "name": "stdout",
     "output_type": "stream",
     "text": [
      "Cat-classifier (In this model 'cat' is the positive prediction)\n",
      "True Positives 34\n",
      "False Positives 7\n",
      "False Negatives 13\n",
      "True Negatives 46\n",
      "-------------\n",
      "Accuracy is 0.8\n",
      "Recall is 0.72\n",
      "Precision is 0.83\n"
     ]
    }
   ],
   "source": [
    "print(\"Cat-classifier (In this model 'cat' is the positive prediction)\")\n",
    "print(\"True Positives\", tp)\n",
    "print(\"False Positives\", fp)\n",
    "print(\"False Negatives\", fn)\n",
    "print(\"True Negatives\", tn)\n",
    "\n",
    "print(\"-------------\")\n",
    "\n",
    "accuracy = (tp + tn) / (tp + tn + fp + fn)\n",
    "recall = tp / (tp + fn)\n",
    "precision = tp / (tp + fp)\n",
    "\n",
    "print(\"Accuracy is\", accuracy)\n",
    "print(\"Recall is\", round(recall,2))\n",
    "print(\"Precision is\", round(precision,2))"
   ]
  },
  {
   "cell_type": "markdown",
   "id": "b5ba8e76",
   "metadata": {},
   "source": [
    "3) You are working as a datascientist working for **Codeup Cody Creator** (C3 for short), a rubber-duck manufacturing plant.\n",
    "\n",
    "Unfortunately, some of the rubber ducks that are produced will have defects. Your team has built several models that try to predict those defects, and the data from their predictions can be found here.\n",
    "\n",
    "Use the predictions dataset and pandas to help answer the following questions:\n",
    "\n"
   ]
  },
  {
   "cell_type": "markdown",
   "id": "887e67fc",
   "metadata": {},
   "source": [
    "- An internal team wants to investigate the cause of the manufacturing defects. They tell you that they want to identify as many of the ducks that have a defect as possible.\n",
    "\n",
    "    - Which evaluation metric would be appropriate here? \n",
    "    - Which model would be the best fit for this use case?\n",
    "    \n",
    "- Recently several stories in the local news have come out highlighting customers who received a rubber duck with a defect, and portraying C3 in a bad light. The PR team has decided to launch a program that gives customers with a defective duck a vacation to Hawaii. They need you to predict which ducks will have defects, but tell you the really don't want to accidentally give out a vacation package when the duck really doesn't have a defect. Which evaluation metric would be appropriate here? Which model would be the best fit for this use case?"
   ]
  },
  {
   "cell_type": "code",
   "execution_count": 4,
   "id": "215c1fe4",
   "metadata": {},
   "outputs": [
    {
     "data": {
      "text/html": [
       "<div>\n",
       "<style scoped>\n",
       "    .dataframe tbody tr th:only-of-type {\n",
       "        vertical-align: middle;\n",
       "    }\n",
       "\n",
       "    .dataframe tbody tr th {\n",
       "        vertical-align: top;\n",
       "    }\n",
       "\n",
       "    .dataframe thead th {\n",
       "        text-align: right;\n",
       "    }\n",
       "</style>\n",
       "<table border=\"1\" class=\"dataframe\">\n",
       "  <thead>\n",
       "    <tr style=\"text-align: right;\">\n",
       "      <th></th>\n",
       "      <th>actual</th>\n",
       "      <th>model1</th>\n",
       "      <th>model2</th>\n",
       "      <th>model3</th>\n",
       "    </tr>\n",
       "  </thead>\n",
       "  <tbody>\n",
       "    <tr>\n",
       "      <th>0</th>\n",
       "      <td>No Defect</td>\n",
       "      <td>No Defect</td>\n",
       "      <td>Defect</td>\n",
       "      <td>No Defect</td>\n",
       "    </tr>\n",
       "    <tr>\n",
       "      <th>1</th>\n",
       "      <td>No Defect</td>\n",
       "      <td>No Defect</td>\n",
       "      <td>Defect</td>\n",
       "      <td>Defect</td>\n",
       "    </tr>\n",
       "    <tr>\n",
       "      <th>2</th>\n",
       "      <td>No Defect</td>\n",
       "      <td>No Defect</td>\n",
       "      <td>Defect</td>\n",
       "      <td>No Defect</td>\n",
       "    </tr>\n",
       "    <tr>\n",
       "      <th>3</th>\n",
       "      <td>No Defect</td>\n",
       "      <td>Defect</td>\n",
       "      <td>Defect</td>\n",
       "      <td>Defect</td>\n",
       "    </tr>\n",
       "    <tr>\n",
       "      <th>4</th>\n",
       "      <td>No Defect</td>\n",
       "      <td>No Defect</td>\n",
       "      <td>Defect</td>\n",
       "      <td>No Defect</td>\n",
       "    </tr>\n",
       "  </tbody>\n",
       "</table>\n",
       "</div>"
      ],
      "text/plain": [
       "      actual     model1  model2     model3\n",
       "0  No Defect  No Defect  Defect  No Defect\n",
       "1  No Defect  No Defect  Defect     Defect\n",
       "2  No Defect  No Defect  Defect  No Defect\n",
       "3  No Defect     Defect  Defect     Defect\n",
       "4  No Defect  No Defect  Defect  No Defect"
      ]
     },
     "execution_count": 4,
     "metadata": {},
     "output_type": "execute_result"
    }
   ],
   "source": [
    "df = pd.read_csv('https://ds.codeup.com/data/c3.csv')\n",
    "df.head()"
   ]
  },
  {
   "cell_type": "code",
   "execution_count": 5,
   "id": "8bb9407a",
   "metadata": {},
   "outputs": [
    {
     "data": {
      "text/plain": [
       "No Defect    184\n",
       "Defect        16\n",
       "Name: actual, dtype: int64"
      ]
     },
     "execution_count": 5,
     "metadata": {},
     "output_type": "execute_result"
    }
   ],
   "source": [
    "# look at the classes. \n",
    "df.actual.value_counts()"
   ]
  },
  {
   "cell_type": "markdown",
   "id": "c2bd8765",
   "metadata": {},
   "source": [
    "- Since we are interested in defects, we will asssign it as the positive class for the classifier.\n",
    "\n",
    "- Quality Control, our internal customer, wants the metric to identify as many defective ducks as possible\n",
    "    \n",
    "- Our best metric for Quality Control here is recall i.e how many of defective ducks are actually flagged by defective (positive) by the models"
   ]
  },
  {
   "cell_type": "code",
   "execution_count": 6,
   "id": "591bdccf",
   "metadata": {},
   "outputs": [
    {
     "data": {
      "text/html": [
       "<div>\n",
       "<style scoped>\n",
       "    .dataframe tbody tr th:only-of-type {\n",
       "        vertical-align: middle;\n",
       "    }\n",
       "\n",
       "    .dataframe tbody tr th {\n",
       "        vertical-align: top;\n",
       "    }\n",
       "\n",
       "    .dataframe thead th {\n",
       "        text-align: right;\n",
       "    }\n",
       "</style>\n",
       "<table border=\"1\" class=\"dataframe\">\n",
       "  <thead>\n",
       "    <tr style=\"text-align: right;\">\n",
       "      <th></th>\n",
       "      <th>actual</th>\n",
       "      <th>model1</th>\n",
       "      <th>model2</th>\n",
       "      <th>model3</th>\n",
       "    </tr>\n",
       "  </thead>\n",
       "  <tbody>\n",
       "    <tr>\n",
       "      <th>13</th>\n",
       "      <td>Defect</td>\n",
       "      <td>No Defect</td>\n",
       "      <td>Defect</td>\n",
       "      <td>Defect</td>\n",
       "    </tr>\n",
       "    <tr>\n",
       "      <th>30</th>\n",
       "      <td>Defect</td>\n",
       "      <td>Defect</td>\n",
       "      <td>No Defect</td>\n",
       "      <td>Defect</td>\n",
       "    </tr>\n",
       "    <tr>\n",
       "      <th>65</th>\n",
       "      <td>Defect</td>\n",
       "      <td>Defect</td>\n",
       "      <td>Defect</td>\n",
       "      <td>Defect</td>\n",
       "    </tr>\n",
       "    <tr>\n",
       "      <th>70</th>\n",
       "      <td>Defect</td>\n",
       "      <td>Defect</td>\n",
       "      <td>Defect</td>\n",
       "      <td>Defect</td>\n",
       "    </tr>\n",
       "    <tr>\n",
       "      <th>74</th>\n",
       "      <td>Defect</td>\n",
       "      <td>No Defect</td>\n",
       "      <td>No Defect</td>\n",
       "      <td>Defect</td>\n",
       "    </tr>\n",
       "    <tr>\n",
       "      <th>87</th>\n",
       "      <td>Defect</td>\n",
       "      <td>No Defect</td>\n",
       "      <td>Defect</td>\n",
       "      <td>Defect</td>\n",
       "    </tr>\n",
       "    <tr>\n",
       "      <th>118</th>\n",
       "      <td>Defect</td>\n",
       "      <td>No Defect</td>\n",
       "      <td>Defect</td>\n",
       "      <td>No Defect</td>\n",
       "    </tr>\n",
       "    <tr>\n",
       "      <th>135</th>\n",
       "      <td>Defect</td>\n",
       "      <td>Defect</td>\n",
       "      <td>No Defect</td>\n",
       "      <td>Defect</td>\n",
       "    </tr>\n",
       "    <tr>\n",
       "      <th>140</th>\n",
       "      <td>Defect</td>\n",
       "      <td>No Defect</td>\n",
       "      <td>Defect</td>\n",
       "      <td>Defect</td>\n",
       "    </tr>\n",
       "    <tr>\n",
       "      <th>147</th>\n",
       "      <td>Defect</td>\n",
       "      <td>Defect</td>\n",
       "      <td>No Defect</td>\n",
       "      <td>Defect</td>\n",
       "    </tr>\n",
       "    <tr>\n",
       "      <th>163</th>\n",
       "      <td>Defect</td>\n",
       "      <td>Defect</td>\n",
       "      <td>Defect</td>\n",
       "      <td>Defect</td>\n",
       "    </tr>\n",
       "    <tr>\n",
       "      <th>171</th>\n",
       "      <td>Defect</td>\n",
       "      <td>No Defect</td>\n",
       "      <td>Defect</td>\n",
       "      <td>Defect</td>\n",
       "    </tr>\n",
       "    <tr>\n",
       "      <th>176</th>\n",
       "      <td>Defect</td>\n",
       "      <td>No Defect</td>\n",
       "      <td>Defect</td>\n",
       "      <td>Defect</td>\n",
       "    </tr>\n",
       "    <tr>\n",
       "      <th>186</th>\n",
       "      <td>Defect</td>\n",
       "      <td>No Defect</td>\n",
       "      <td>No Defect</td>\n",
       "      <td>No Defect</td>\n",
       "    </tr>\n",
       "    <tr>\n",
       "      <th>194</th>\n",
       "      <td>Defect</td>\n",
       "      <td>Defect</td>\n",
       "      <td>No Defect</td>\n",
       "      <td>Defect</td>\n",
       "    </tr>\n",
       "    <tr>\n",
       "      <th>196</th>\n",
       "      <td>Defect</td>\n",
       "      <td>Defect</td>\n",
       "      <td>No Defect</td>\n",
       "      <td>No Defect</td>\n",
       "    </tr>\n",
       "  </tbody>\n",
       "</table>\n",
       "</div>"
      ],
      "text/plain": [
       "     actual     model1     model2     model3\n",
       "13   Defect  No Defect     Defect     Defect\n",
       "30   Defect     Defect  No Defect     Defect\n",
       "65   Defect     Defect     Defect     Defect\n",
       "70   Defect     Defect     Defect     Defect\n",
       "74   Defect  No Defect  No Defect     Defect\n",
       "87   Defect  No Defect     Defect     Defect\n",
       "118  Defect  No Defect     Defect  No Defect\n",
       "135  Defect     Defect  No Defect     Defect\n",
       "140  Defect  No Defect     Defect     Defect\n",
       "147  Defect     Defect  No Defect     Defect\n",
       "163  Defect     Defect     Defect     Defect\n",
       "171  Defect  No Defect     Defect     Defect\n",
       "176  Defect  No Defect     Defect     Defect\n",
       "186  Defect  No Defect  No Defect  No Defect\n",
       "194  Defect     Defect  No Defect     Defect\n",
       "196  Defect     Defect  No Defect  No Defect"
      ]
     },
     "execution_count": 6,
     "metadata": {},
     "output_type": "execute_result"
    }
   ],
   "source": [
    "# Model 1\n",
    "\n",
    "subset = df[df.actual == 'Defect']\n",
    "subset\n"
   ]
  },
  {
   "cell_type": "code",
   "execution_count": 7,
   "id": "1a8d6add",
   "metadata": {},
   "outputs": [
    {
     "name": "stdout",
     "output_type": "stream",
     "text": [
      "Model 1\n",
      "Model recall: 50.00%\n"
     ]
    }
   ],
   "source": [
    "#Model 1 recall\n",
    "\n",
    "model_recall = (subset.actual == subset.model1).mean()\n",
    "print(\"Model 1\")\n",
    "print(f\"Model recall: {model_recall:.2%}\")"
   ]
  },
  {
   "cell_type": "code",
   "execution_count": 8,
   "id": "e1c1127d",
   "metadata": {},
   "outputs": [
    {
     "name": "stdout",
     "output_type": "stream",
     "text": [
      "Model 2\n",
      "Model recall: 56.25%\n"
     ]
    }
   ],
   "source": [
    "# Model 2 recall\n",
    "\n",
    "model_recall = (subset.actual == subset.model2).mean()\n",
    "print(\"Model 2\")\n",
    "print(f\"Model recall: {model_recall:.2%}\")\n"
   ]
  },
  {
   "cell_type": "code",
   "execution_count": 9,
   "id": "55f7190c",
   "metadata": {},
   "outputs": [
    {
     "name": "stdout",
     "output_type": "stream",
     "text": [
      "Model 3\n",
      "Model recall: 81.25%\n"
     ]
    }
   ],
   "source": [
    "# Model 3 recall\n",
    "\n",
    "model_recall = (subset.actual == subset.model3).mean()\n",
    "print(\"Model 3\")\n",
    "print(f\"Model recall: {model_recall:.2%}\")"
   ]
  },
  {
   "cell_type": "markdown",
   "id": "aca38bb0",
   "metadata": {},
   "source": [
    "**Takeaways:\n",
    "\n",
    "- Quality Control should select a model with higher recall (to avoid false negatives)\n",
    "\n",
    "- Quality Control should use Model 3\n"
   ]
  },
  {
   "cell_type": "markdown",
   "id": "38df881a",
   "metadata": {},
   "source": [
    "- The PR team has decided to launch a program that gives customers with a defective duck a vacation to Hawaii\n",
    "\n",
    "- They need you to predict which ducks will have defects, but tell you the really don't want to accidentally give out a vacation package when the duck really doesn't have a defect.\n",
    "\n",
    "- Which evaluation metric would be appropriate here? Which model would be the best fit for this use case?\n",
    "\n"
   ]
  },
  {
   "cell_type": "code",
   "execution_count": 10,
   "id": "749b77e5",
   "metadata": {},
   "outputs": [
    {
     "name": "stdout",
     "output_type": "stream",
     "text": [
      "Model 1\n",
      "Model precision: 80.00%\n"
     ]
    }
   ],
   "source": [
    "# PR team really wants to minimize the False positives \n",
    "# - meaning choose model with highest precision:\n",
    "\n",
    "# choose subset of model1 where we only select 'positive predictions'\n",
    "subset = df[df.model1 == 'Defect']\n",
    "\n",
    "# calculate precision\n",
    "model_precision = (subset.actual == subset.model1).mean()\n",
    "\n",
    "print(\"Model 1\")\n",
    "print(f\"Model precision: {model_precision:.2%}\")"
   ]
  },
  {
   "cell_type": "code",
   "execution_count": 11,
   "id": "80072ec7",
   "metadata": {},
   "outputs": [
    {
     "name": "stdout",
     "output_type": "stream",
     "text": [
      "Model 2\n",
      "Model precision: 10.00%\n"
     ]
    }
   ],
   "source": [
    "# choose subset for model2 where we only select 'positive predictions'\n",
    "subset = df[df.model2 == 'Defect']\n",
    "\n",
    "# calculate precision\n",
    "model_precision = (subset.actual == subset.model2).mean()\n",
    "\n",
    "print(\"Model 2\")\n",
    "print(f\"Model precision: {model_precision:.2%}\")\n"
   ]
  },
  {
   "cell_type": "code",
   "execution_count": 12,
   "id": "e6886e7c",
   "metadata": {},
   "outputs": [
    {
     "data": {
      "text/plain": [
       "'The value of x is 123.12'"
      ]
     },
     "execution_count": 12,
     "metadata": {},
     "output_type": "execute_result"
    }
   ],
   "source": [
    "x = 123.1234\n",
    "f'The value of x is {x:.2f}'"
   ]
  },
  {
   "cell_type": "code",
   "execution_count": 13,
   "id": "9191b47e",
   "metadata": {},
   "outputs": [
    {
     "data": {
      "text/plain": [
       "'The value of x is 12.35%'"
      ]
     },
     "execution_count": 13,
     "metadata": {},
     "output_type": "execute_result"
    }
   ],
   "source": [
    "x = 0.123456\n",
    "f'The value of x is {x:.2%}'"
   ]
  },
  {
   "cell_type": "code",
   "execution_count": 14,
   "id": "3cd01074",
   "metadata": {},
   "outputs": [
    {
     "name": "stdout",
     "output_type": "stream",
     "text": [
      "Model 3\n",
      "Model precision: 13.13%\n"
     ]
    }
   ],
   "source": [
    "# choose subset for model3 where we only select 'positive predictions'\n",
    "subset = df[df.model3 == 'Defect']\n",
    "\n",
    "# calculate precision\n",
    "model_precision = (subset.actual == subset.model3).mean()\n",
    "\n",
    "print(\"Model 3\")\n",
    "print(f\"Model precision: {model_precision:.2%}\")"
   ]
  },
  {
   "cell_type": "markdown",
   "id": "b6d5cdff",
   "metadata": {},
   "source": [
    "**Takeaway for Marketing:**\n",
    "\n",
    "Use model 1 since it will minimize the false positive predictions of defects\n"
   ]
  },
  {
   "cell_type": "markdown",
   "id": "05dec4c3",
   "metadata": {},
   "source": [
    "4) You are working as a data scientist for **Gives You Paws** ™, a subscription based service that shows you cute pictures of dogs or cats (or both for an additional fee)."
   ]
  },
  {
   "cell_type": "code",
   "execution_count": 15,
   "id": "c4c4cdf7",
   "metadata": {},
   "outputs": [
    {
     "data": {
      "text/html": [
       "<div>\n",
       "<style scoped>\n",
       "    .dataframe tbody tr th:only-of-type {\n",
       "        vertical-align: middle;\n",
       "    }\n",
       "\n",
       "    .dataframe tbody tr th {\n",
       "        vertical-align: top;\n",
       "    }\n",
       "\n",
       "    .dataframe thead th {\n",
       "        text-align: right;\n",
       "    }\n",
       "</style>\n",
       "<table border=\"1\" class=\"dataframe\">\n",
       "  <thead>\n",
       "    <tr style=\"text-align: right;\">\n",
       "      <th></th>\n",
       "      <th>actual</th>\n",
       "      <th>model1</th>\n",
       "      <th>model2</th>\n",
       "      <th>model3</th>\n",
       "      <th>model4</th>\n",
       "    </tr>\n",
       "  </thead>\n",
       "  <tbody>\n",
       "    <tr>\n",
       "      <th>0</th>\n",
       "      <td>cat</td>\n",
       "      <td>cat</td>\n",
       "      <td>dog</td>\n",
       "      <td>cat</td>\n",
       "      <td>dog</td>\n",
       "    </tr>\n",
       "    <tr>\n",
       "      <th>1</th>\n",
       "      <td>dog</td>\n",
       "      <td>dog</td>\n",
       "      <td>cat</td>\n",
       "      <td>cat</td>\n",
       "      <td>dog</td>\n",
       "    </tr>\n",
       "    <tr>\n",
       "      <th>2</th>\n",
       "      <td>dog</td>\n",
       "      <td>cat</td>\n",
       "      <td>cat</td>\n",
       "      <td>cat</td>\n",
       "      <td>dog</td>\n",
       "    </tr>\n",
       "    <tr>\n",
       "      <th>3</th>\n",
       "      <td>dog</td>\n",
       "      <td>dog</td>\n",
       "      <td>dog</td>\n",
       "      <td>cat</td>\n",
       "      <td>dog</td>\n",
       "    </tr>\n",
       "    <tr>\n",
       "      <th>4</th>\n",
       "      <td>cat</td>\n",
       "      <td>cat</td>\n",
       "      <td>cat</td>\n",
       "      <td>dog</td>\n",
       "      <td>dog</td>\n",
       "    </tr>\n",
       "  </tbody>\n",
       "</table>\n",
       "</div>"
      ],
      "text/plain": [
       "  actual model1 model2 model3 model4\n",
       "0    cat    cat    dog    cat    dog\n",
       "1    dog    dog    cat    cat    dog\n",
       "2    dog    cat    cat    cat    dog\n",
       "3    dog    dog    dog    cat    dog\n",
       "4    cat    cat    cat    dog    dog"
      ]
     },
     "execution_count": 15,
     "metadata": {},
     "output_type": "execute_result"
    }
   ],
   "source": [
    "# Read the csv file\n",
    "df = pd.read_csv(\"https://ds.codeup.com/data/gives_you_paws.csv\")\n",
    "df.head()"
   ]
  },
  {
   "cell_type": "code",
   "execution_count": 16,
   "id": "fa3adc1f",
   "metadata": {},
   "outputs": [
    {
     "data": {
      "text/plain": [
       "dog    3254\n",
       "cat    1746\n",
       "Name: actual, dtype: int64"
      ]
     },
     "execution_count": 16,
     "metadata": {},
     "output_type": "execute_result"
    }
   ],
   "source": [
    "# look at actual value counts\n",
    "df.actual.value_counts()"
   ]
  },
  {
   "cell_type": "code",
   "execution_count": 44,
   "id": "a63670ea",
   "metadata": {},
   "outputs": [
    {
     "data": {
      "text/html": [
       "<div>\n",
       "<style scoped>\n",
       "    .dataframe tbody tr th:only-of-type {\n",
       "        vertical-align: middle;\n",
       "    }\n",
       "\n",
       "    .dataframe tbody tr th {\n",
       "        vertical-align: top;\n",
       "    }\n",
       "\n",
       "    .dataframe thead th {\n",
       "        text-align: right;\n",
       "    }\n",
       "</style>\n",
       "<table border=\"1\" class=\"dataframe\">\n",
       "  <thead>\n",
       "    <tr style=\"text-align: right;\">\n",
       "      <th></th>\n",
       "      <th>actual</th>\n",
       "      <th>model1</th>\n",
       "      <th>model2</th>\n",
       "      <th>model3</th>\n",
       "      <th>model4</th>\n",
       "      <th>baseline</th>\n",
       "    </tr>\n",
       "  </thead>\n",
       "  <tbody>\n",
       "    <tr>\n",
       "      <th>0</th>\n",
       "      <td>cat</td>\n",
       "      <td>cat</td>\n",
       "      <td>dog</td>\n",
       "      <td>cat</td>\n",
       "      <td>dog</td>\n",
       "      <td>dog</td>\n",
       "    </tr>\n",
       "    <tr>\n",
       "      <th>1</th>\n",
       "      <td>dog</td>\n",
       "      <td>dog</td>\n",
       "      <td>cat</td>\n",
       "      <td>cat</td>\n",
       "      <td>dog</td>\n",
       "      <td>dog</td>\n",
       "    </tr>\n",
       "  </tbody>\n",
       "</table>\n",
       "</div>"
      ],
      "text/plain": [
       "  actual model1 model2 model3 model4 baseline\n",
       "0    cat    cat    dog    cat    dog      dog\n",
       "1    dog    dog    cat    cat    dog      dog"
      ]
     },
     "execution_count": 44,
     "metadata": {},
     "output_type": "execute_result"
    }
   ],
   "source": [
    "# Given this dataset, use pandas to create a baseline model. \n",
    "    \n",
    "df[\"baseline\"] = df.actual.value_counts().idxmax()\n",
    "df.head(2)"
   ]
  },
  {
   "cell_type": "markdown",
   "id": "e2ab667c",
   "metadata": {},
   "source": [
    "**a. In terms of accuracy, how do the various models compare to the baseline model? Are any of the models better than the baseline?**\n"
   ]
  },
  {
   "cell_type": "code",
   "execution_count": 18,
   "id": "0bf261d2",
   "metadata": {},
   "outputs": [
    {
     "data": {
      "text/plain": [
       "0.6508"
      ]
     },
     "execution_count": 18,
     "metadata": {},
     "output_type": "execute_result"
    }
   ],
   "source": [
    "(df.baseline == df.actual).mean()\n"
   ]
  },
  {
   "cell_type": "code",
   "execution_count": 19,
   "id": "060e2ade",
   "metadata": {},
   "outputs": [
    {
     "data": {
      "text/plain": [
       "0.8074"
      ]
     },
     "execution_count": 19,
     "metadata": {},
     "output_type": "execute_result"
    }
   ],
   "source": [
    "(df.model1 == df.actual).mean()\n"
   ]
  },
  {
   "cell_type": "code",
   "execution_count": 20,
   "id": "8bc170fa",
   "metadata": {},
   "outputs": [
    {
     "data": {
      "text/plain": [
       "0.6304"
      ]
     },
     "execution_count": 20,
     "metadata": {},
     "output_type": "execute_result"
    }
   ],
   "source": [
    "(df.model2 == df.actual).mean()\n"
   ]
  },
  {
   "cell_type": "code",
   "execution_count": 21,
   "id": "bd747651",
   "metadata": {},
   "outputs": [
    {
     "data": {
      "text/plain": [
       "0.5096"
      ]
     },
     "execution_count": 21,
     "metadata": {},
     "output_type": "execute_result"
    }
   ],
   "source": [
    "(df.model3 == df.actual).mean()\n"
   ]
  },
  {
   "cell_type": "code",
   "execution_count": 22,
   "id": "9b07279a",
   "metadata": {},
   "outputs": [
    {
     "data": {
      "text/plain": [
       "0.7426"
      ]
     },
     "execution_count": 22,
     "metadata": {},
     "output_type": "execute_result"
    }
   ],
   "source": [
    "(df.model4 == df.actual).mean()\n"
   ]
  },
  {
   "cell_type": "markdown",
   "id": "7b359bdb",
   "metadata": {},
   "source": [
    "**b. Suppose you are working on a team that solely deals with dog pictures.**\n",
    "\n",
    "    - Which of these models would you recommend for Phase I? \n",
    "\n",
    "    - For Phase II?\n"
   ]
  },
  {
   "cell_type": "markdown",
   "id": "f7aa83ce",
   "metadata": {},
   "source": [
    "**Dog Pictures**------------->\n",
    "\n",
    "'dog' = Positive\n",
    "'cat' = Negative\n",
    "\n",
    "Phase 1: Automated algorithm tags pictures as either a cat or a dog\n",
    "    - For phase 1, we should choose the model with highest Recall"
   ]
  },
  {
   "cell_type": "code",
   "execution_count": 45,
   "id": "4350f73a",
   "metadata": {},
   "outputs": [
    {
     "data": {
      "text/html": [
       "<div>\n",
       "<style scoped>\n",
       "    .dataframe tbody tr th:only-of-type {\n",
       "        vertical-align: middle;\n",
       "    }\n",
       "\n",
       "    .dataframe tbody tr th {\n",
       "        vertical-align: top;\n",
       "    }\n",
       "\n",
       "    .dataframe thead th {\n",
       "        text-align: right;\n",
       "    }\n",
       "</style>\n",
       "<table border=\"1\" class=\"dataframe\">\n",
       "  <thead>\n",
       "    <tr style=\"text-align: right;\">\n",
       "      <th></th>\n",
       "      <th>actual</th>\n",
       "      <th>model1</th>\n",
       "      <th>model2</th>\n",
       "      <th>model3</th>\n",
       "      <th>model4</th>\n",
       "      <th>baseline</th>\n",
       "    </tr>\n",
       "  </thead>\n",
       "  <tbody>\n",
       "    <tr>\n",
       "      <th>1</th>\n",
       "      <td>dog</td>\n",
       "      <td>dog</td>\n",
       "      <td>cat</td>\n",
       "      <td>cat</td>\n",
       "      <td>dog</td>\n",
       "      <td>dog</td>\n",
       "    </tr>\n",
       "    <tr>\n",
       "      <th>2</th>\n",
       "      <td>dog</td>\n",
       "      <td>cat</td>\n",
       "      <td>cat</td>\n",
       "      <td>cat</td>\n",
       "      <td>dog</td>\n",
       "      <td>dog</td>\n",
       "    </tr>\n",
       "    <tr>\n",
       "      <th>3</th>\n",
       "      <td>dog</td>\n",
       "      <td>dog</td>\n",
       "      <td>dog</td>\n",
       "      <td>cat</td>\n",
       "      <td>dog</td>\n",
       "      <td>dog</td>\n",
       "    </tr>\n",
       "    <tr>\n",
       "      <th>5</th>\n",
       "      <td>dog</td>\n",
       "      <td>dog</td>\n",
       "      <td>dog</td>\n",
       "      <td>dog</td>\n",
       "      <td>dog</td>\n",
       "      <td>dog</td>\n",
       "    </tr>\n",
       "    <tr>\n",
       "      <th>8</th>\n",
       "      <td>dog</td>\n",
       "      <td>dog</td>\n",
       "      <td>cat</td>\n",
       "      <td>dog</td>\n",
       "      <td>dog</td>\n",
       "      <td>dog</td>\n",
       "    </tr>\n",
       "  </tbody>\n",
       "</table>\n",
       "</div>"
      ],
      "text/plain": [
       "  actual model1 model2 model3 model4 baseline\n",
       "1    dog    dog    cat    cat    dog      dog\n",
       "2    dog    cat    cat    cat    dog      dog\n",
       "3    dog    dog    dog    cat    dog      dog\n",
       "5    dog    dog    dog    dog    dog      dog\n",
       "8    dog    dog    cat    dog    dog      dog"
      ]
     },
     "execution_count": 45,
     "metadata": {},
     "output_type": "execute_result"
    }
   ],
   "source": [
    "subset = df[df.actual == 'dog']\n",
    "subset.head()"
   ]
  },
  {
   "cell_type": "code",
   "execution_count": 46,
   "id": "85699c98",
   "metadata": {},
   "outputs": [
    {
     "data": {
      "text/plain": [
       "0.803318992009834"
      ]
     },
     "execution_count": 46,
     "metadata": {},
     "output_type": "execute_result"
    }
   ],
   "source": [
    "# Model 1 Recall\n",
    "(subset.actual == subset.model1).mean()\n"
   ]
  },
  {
   "cell_type": "code",
   "execution_count": 47,
   "id": "9b1b3f43",
   "metadata": {},
   "outputs": [
    {
     "data": {
      "text/plain": [
       "0.49078057775046097"
      ]
     },
     "execution_count": 47,
     "metadata": {},
     "output_type": "execute_result"
    }
   ],
   "source": [
    "# Model 2 Recall\n",
    "(subset.actual == subset.model2).mean()"
   ]
  },
  {
   "cell_type": "code",
   "execution_count": 48,
   "id": "b3994cfd",
   "metadata": {},
   "outputs": [
    {
     "data": {
      "text/plain": [
       "0.5086047940995697"
      ]
     },
     "execution_count": 48,
     "metadata": {},
     "output_type": "execute_result"
    }
   ],
   "source": [
    "# Model 3 Recall\n",
    "(subset.actual == subset.model3).mean()"
   ]
  },
  {
   "cell_type": "code",
   "execution_count": 49,
   "id": "9b5682c9",
   "metadata": {},
   "outputs": [
    {
     "data": {
      "text/plain": [
       "0.9557467732022127"
      ]
     },
     "execution_count": 49,
     "metadata": {},
     "output_type": "execute_result"
    }
   ],
   "source": [
    "# Model 4 Recall\n",
    "(subset.actual == subset.model4).mean()"
   ]
  },
  {
   "cell_type": "markdown",
   "id": "46cf9142",
   "metadata": {},
   "source": [
    "- Are any of the models better than the baseline?\n",
    "\n",
    "**Phase-1**\n",
    "\n",
    "- Dog Pictures, Phase-1 model is Model 4 with Recall of 0.96\n"
   ]
  },
  {
   "cell_type": "code",
   "execution_count": 50,
   "id": "7433b758",
   "metadata": {},
   "outputs": [
    {
     "data": {
      "text/html": [
       "<div>\n",
       "<style scoped>\n",
       "    .dataframe tbody tr th:only-of-type {\n",
       "        vertical-align: middle;\n",
       "    }\n",
       "\n",
       "    .dataframe tbody tr th {\n",
       "        vertical-align: top;\n",
       "    }\n",
       "\n",
       "    .dataframe thead th {\n",
       "        text-align: right;\n",
       "    }\n",
       "</style>\n",
       "<table border=\"1\" class=\"dataframe\">\n",
       "  <thead>\n",
       "    <tr style=\"text-align: right;\">\n",
       "      <th>actual</th>\n",
       "      <th>cat</th>\n",
       "      <th>dog</th>\n",
       "    </tr>\n",
       "    <tr>\n",
       "      <th>model4</th>\n",
       "      <th></th>\n",
       "      <th></th>\n",
       "    </tr>\n",
       "  </thead>\n",
       "  <tbody>\n",
       "    <tr>\n",
       "      <th>cat</th>\n",
       "      <td>603</td>\n",
       "      <td>144</td>\n",
       "    </tr>\n",
       "    <tr>\n",
       "      <th>dog</th>\n",
       "      <td>1143</td>\n",
       "      <td>3110</td>\n",
       "    </tr>\n",
       "  </tbody>\n",
       "</table>\n",
       "</div>"
      ],
      "text/plain": [
       "actual   cat   dog\n",
       "model4            \n",
       "cat      603   144\n",
       "dog     1143  3110"
      ]
     },
     "execution_count": 50,
     "metadata": {},
     "output_type": "execute_result"
    }
   ],
   "source": [
    "# Confusion Matrix for model 4\n",
    "pd.crosstab(df.model4, df.actual)"
   ]
  },
  {
   "cell_type": "markdown",
   "id": "ed0add55",
   "metadata": {},
   "source": [
    "**Phase-2**\n",
    "\n",
    "- Photos that have been initially identified are put through another   round of review\n",
    "\n",
    "\n",
    "- Precision is the appropriate metric since we are trying to           minimize false positives"
   ]
  },
  {
   "cell_type": "code",
   "execution_count": 51,
   "id": "f1974089",
   "metadata": {},
   "outputs": [
    {
     "data": {
      "text/html": [
       "<div>\n",
       "<style scoped>\n",
       "    .dataframe tbody tr th:only-of-type {\n",
       "        vertical-align: middle;\n",
       "    }\n",
       "\n",
       "    .dataframe tbody tr th {\n",
       "        vertical-align: top;\n",
       "    }\n",
       "\n",
       "    .dataframe thead th {\n",
       "        text-align: right;\n",
       "    }\n",
       "</style>\n",
       "<table border=\"1\" class=\"dataframe\">\n",
       "  <thead>\n",
       "    <tr style=\"text-align: right;\">\n",
       "      <th></th>\n",
       "      <th>actual</th>\n",
       "      <th>model1</th>\n",
       "      <th>model2</th>\n",
       "      <th>model3</th>\n",
       "      <th>model4</th>\n",
       "      <th>baseline</th>\n",
       "    </tr>\n",
       "  </thead>\n",
       "  <tbody>\n",
       "    <tr>\n",
       "      <th>0</th>\n",
       "      <td>cat</td>\n",
       "      <td>cat</td>\n",
       "      <td>dog</td>\n",
       "      <td>cat</td>\n",
       "      <td>dog</td>\n",
       "      <td>dog</td>\n",
       "    </tr>\n",
       "    <tr>\n",
       "      <th>1</th>\n",
       "      <td>dog</td>\n",
       "      <td>dog</td>\n",
       "      <td>cat</td>\n",
       "      <td>cat</td>\n",
       "      <td>dog</td>\n",
       "      <td>dog</td>\n",
       "    </tr>\n",
       "    <tr>\n",
       "      <th>2</th>\n",
       "      <td>dog</td>\n",
       "      <td>cat</td>\n",
       "      <td>cat</td>\n",
       "      <td>cat</td>\n",
       "      <td>dog</td>\n",
       "      <td>dog</td>\n",
       "    </tr>\n",
       "    <tr>\n",
       "      <th>3</th>\n",
       "      <td>dog</td>\n",
       "      <td>dog</td>\n",
       "      <td>dog</td>\n",
       "      <td>cat</td>\n",
       "      <td>dog</td>\n",
       "      <td>dog</td>\n",
       "    </tr>\n",
       "    <tr>\n",
       "      <th>4</th>\n",
       "      <td>cat</td>\n",
       "      <td>cat</td>\n",
       "      <td>cat</td>\n",
       "      <td>dog</td>\n",
       "      <td>dog</td>\n",
       "      <td>dog</td>\n",
       "    </tr>\n",
       "  </tbody>\n",
       "</table>\n",
       "</div>"
      ],
      "text/plain": [
       "  actual model1 model2 model3 model4 baseline\n",
       "0    cat    cat    dog    cat    dog      dog\n",
       "1    dog    dog    cat    cat    dog      dog\n",
       "2    dog    cat    cat    cat    dog      dog\n",
       "3    dog    dog    dog    cat    dog      dog\n",
       "4    cat    cat    cat    dog    dog      dog"
      ]
     },
     "execution_count": 51,
     "metadata": {},
     "output_type": "execute_result"
    }
   ],
   "source": [
    "df.head()\n"
   ]
  },
  {
   "cell_type": "code",
   "execution_count": 52,
   "id": "52023131",
   "metadata": {},
   "outputs": [],
   "source": [
    "subset1 = df[df.model1 == 'dog']\n",
    "subset2 = df[df.model2 == 'dog']\n",
    "subset3 = df[df.model3 == 'dog']\n",
    "subset4 = df[df.model4 == 'dog']"
   ]
  },
  {
   "cell_type": "code",
   "execution_count": 53,
   "id": "6ef3e569",
   "metadata": {},
   "outputs": [
    {
     "data": {
      "text/html": [
       "<div>\n",
       "<style scoped>\n",
       "    .dataframe tbody tr th:only-of-type {\n",
       "        vertical-align: middle;\n",
       "    }\n",
       "\n",
       "    .dataframe tbody tr th {\n",
       "        vertical-align: top;\n",
       "    }\n",
       "\n",
       "    .dataframe thead th {\n",
       "        text-align: right;\n",
       "    }\n",
       "</style>\n",
       "<table border=\"1\" class=\"dataframe\">\n",
       "  <thead>\n",
       "    <tr style=\"text-align: right;\">\n",
       "      <th></th>\n",
       "      <th>actual</th>\n",
       "      <th>model1</th>\n",
       "      <th>model2</th>\n",
       "      <th>model3</th>\n",
       "      <th>model4</th>\n",
       "      <th>baseline</th>\n",
       "    </tr>\n",
       "  </thead>\n",
       "  <tbody>\n",
       "    <tr>\n",
       "      <th>1</th>\n",
       "      <td>dog</td>\n",
       "      <td>dog</td>\n",
       "      <td>cat</td>\n",
       "      <td>cat</td>\n",
       "      <td>dog</td>\n",
       "      <td>dog</td>\n",
       "    </tr>\n",
       "    <tr>\n",
       "      <th>3</th>\n",
       "      <td>dog</td>\n",
       "      <td>dog</td>\n",
       "      <td>dog</td>\n",
       "      <td>cat</td>\n",
       "      <td>dog</td>\n",
       "      <td>dog</td>\n",
       "    </tr>\n",
       "    <tr>\n",
       "      <th>5</th>\n",
       "      <td>dog</td>\n",
       "      <td>dog</td>\n",
       "      <td>dog</td>\n",
       "      <td>dog</td>\n",
       "      <td>dog</td>\n",
       "      <td>dog</td>\n",
       "    </tr>\n",
       "    <tr>\n",
       "      <th>7</th>\n",
       "      <td>cat</td>\n",
       "      <td>dog</td>\n",
       "      <td>cat</td>\n",
       "      <td>cat</td>\n",
       "      <td>dog</td>\n",
       "      <td>dog</td>\n",
       "    </tr>\n",
       "    <tr>\n",
       "      <th>8</th>\n",
       "      <td>dog</td>\n",
       "      <td>dog</td>\n",
       "      <td>cat</td>\n",
       "      <td>dog</td>\n",
       "      <td>dog</td>\n",
       "      <td>dog</td>\n",
       "    </tr>\n",
       "  </tbody>\n",
       "</table>\n",
       "</div>"
      ],
      "text/plain": [
       "  actual model1 model2 model3 model4 baseline\n",
       "1    dog    dog    cat    cat    dog      dog\n",
       "3    dog    dog    dog    cat    dog      dog\n",
       "5    dog    dog    dog    dog    dog      dog\n",
       "7    cat    dog    cat    cat    dog      dog\n",
       "8    dog    dog    cat    dog    dog      dog"
      ]
     },
     "execution_count": 53,
     "metadata": {},
     "output_type": "execute_result"
    }
   ],
   "source": [
    "# subset1 for model 1\n",
    "subset1.head()"
   ]
  },
  {
   "cell_type": "code",
   "execution_count": 54,
   "id": "61348f51",
   "metadata": {},
   "outputs": [
    {
     "data": {
      "text/plain": [
       "0.8900238338440586"
      ]
     },
     "execution_count": 54,
     "metadata": {},
     "output_type": "execute_result"
    }
   ],
   "source": [
    "# Model 1 Precision\n",
    "(subset1.actual == subset1.model1).mean()"
   ]
  },
  {
   "cell_type": "code",
   "execution_count": 55,
   "id": "cc8ca263",
   "metadata": {},
   "outputs": [
    {
     "data": {
      "text/plain": [
       "0.8931767337807607"
      ]
     },
     "execution_count": 55,
     "metadata": {},
     "output_type": "execute_result"
    }
   ],
   "source": [
    "# Model 2 Precision\n",
    "(subset2.actual == subset2.model2).mean()"
   ]
  },
  {
   "cell_type": "code",
   "execution_count": 56,
   "id": "861481b8",
   "metadata": {},
   "outputs": [
    {
     "data": {
      "text/plain": [
       "0.6598883572567783"
      ]
     },
     "execution_count": 56,
     "metadata": {},
     "output_type": "execute_result"
    }
   ],
   "source": [
    "# Model 3 Precision\n",
    "(subset3.actual == subset3.model3).mean()"
   ]
  },
  {
   "cell_type": "code",
   "execution_count": 57,
   "id": "17d49e96",
   "metadata": {},
   "outputs": [
    {
     "data": {
      "text/plain": [
       "0.7312485304490948"
      ]
     },
     "execution_count": 57,
     "metadata": {},
     "output_type": "execute_result"
    }
   ],
   "source": [
    "# Model 4 Precision\n",
    "(subset4.actual == subset4.model4).mean()"
   ]
  },
  {
   "cell_type": "code",
   "execution_count": 58,
   "id": "48ac2fea",
   "metadata": {},
   "outputs": [
    {
     "data": {
      "text/html": [
       "<div>\n",
       "<style scoped>\n",
       "    .dataframe tbody tr th:only-of-type {\n",
       "        vertical-align: middle;\n",
       "    }\n",
       "\n",
       "    .dataframe tbody tr th {\n",
       "        vertical-align: top;\n",
       "    }\n",
       "\n",
       "    .dataframe thead th {\n",
       "        text-align: right;\n",
       "    }\n",
       "</style>\n",
       "<table border=\"1\" class=\"dataframe\">\n",
       "  <thead>\n",
       "    <tr style=\"text-align: right;\">\n",
       "      <th>actual</th>\n",
       "      <th>cat</th>\n",
       "      <th>dog</th>\n",
       "    </tr>\n",
       "    <tr>\n",
       "      <th>model2</th>\n",
       "      <th></th>\n",
       "      <th></th>\n",
       "    </tr>\n",
       "  </thead>\n",
       "  <tbody>\n",
       "    <tr>\n",
       "      <th>cat</th>\n",
       "      <td>1555</td>\n",
       "      <td>1657</td>\n",
       "    </tr>\n",
       "    <tr>\n",
       "      <th>dog</th>\n",
       "      <td>191</td>\n",
       "      <td>1597</td>\n",
       "    </tr>\n",
       "  </tbody>\n",
       "</table>\n",
       "</div>"
      ],
      "text/plain": [
       "actual   cat   dog\n",
       "model2            \n",
       "cat     1555  1657\n",
       "dog      191  1597"
      ]
     },
     "execution_count": 58,
     "metadata": {},
     "output_type": "execute_result"
    }
   ],
   "source": [
    "pd.crosstab(df.model2, df.actual)"
   ]
  },
  {
   "cell_type": "markdown",
   "id": "093f9c7b",
   "metadata": {},
   "source": [
    "**--> Dog Pictures Phase-2 model is Model 2 with Precision of 0.893**\n"
   ]
  },
  {
   "cell_type": "markdown",
   "id": "4a65dc9a",
   "metadata": {},
   "source": [
    "**-------------------------------------------------------------------->**"
   ]
  },
  {
   "cell_type": "markdown",
   "id": "4af2edec",
   "metadata": {},
   "source": [
    "**c. Suppose you are working on a team that solely deals with cat pictures.**\n",
    "\n",
    "    - Which of these models would you recomend for Phase I? \n",
    "\n",
    "    - For Phase II?\n"
   ]
  },
  {
   "cell_type": "markdown",
   "id": "17beab89",
   "metadata": {},
   "source": [
    "**Cat Pictures------------->**\n",
    "\n",
    "'cat' = Positive \n",
    "'dog' = Negative\n",
    "\n",
    "Phase 1: Automated algorithm tags pictures as either a cat or a dog - For phase 1, we should choose the model with highest Recall"
   ]
  },
  {
   "cell_type": "code",
   "execution_count": 37,
   "id": "3efe0ea2",
   "metadata": {},
   "outputs": [
    {
     "data": {
      "text/html": [
       "<div>\n",
       "<style scoped>\n",
       "    .dataframe tbody tr th:only-of-type {\n",
       "        vertical-align: middle;\n",
       "    }\n",
       "\n",
       "    .dataframe tbody tr th {\n",
       "        vertical-align: top;\n",
       "    }\n",
       "\n",
       "    .dataframe thead th {\n",
       "        text-align: right;\n",
       "    }\n",
       "</style>\n",
       "<table border=\"1\" class=\"dataframe\">\n",
       "  <thead>\n",
       "    <tr style=\"text-align: right;\">\n",
       "      <th></th>\n",
       "      <th>actual</th>\n",
       "      <th>model1</th>\n",
       "      <th>model2</th>\n",
       "      <th>model3</th>\n",
       "      <th>model4</th>\n",
       "      <th>baseline</th>\n",
       "    </tr>\n",
       "  </thead>\n",
       "  <tbody>\n",
       "    <tr>\n",
       "      <th>0</th>\n",
       "      <td>cat</td>\n",
       "      <td>cat</td>\n",
       "      <td>dog</td>\n",
       "      <td>cat</td>\n",
       "      <td>dog</td>\n",
       "      <td>dog</td>\n",
       "    </tr>\n",
       "    <tr>\n",
       "      <th>4</th>\n",
       "      <td>cat</td>\n",
       "      <td>cat</td>\n",
       "      <td>cat</td>\n",
       "      <td>dog</td>\n",
       "      <td>dog</td>\n",
       "      <td>dog</td>\n",
       "    </tr>\n",
       "    <tr>\n",
       "      <th>6</th>\n",
       "      <td>cat</td>\n",
       "      <td>cat</td>\n",
       "      <td>cat</td>\n",
       "      <td>cat</td>\n",
       "      <td>dog</td>\n",
       "      <td>dog</td>\n",
       "    </tr>\n",
       "    <tr>\n",
       "      <th>7</th>\n",
       "      <td>cat</td>\n",
       "      <td>dog</td>\n",
       "      <td>cat</td>\n",
       "      <td>cat</td>\n",
       "      <td>dog</td>\n",
       "      <td>dog</td>\n",
       "    </tr>\n",
       "    <tr>\n",
       "      <th>11</th>\n",
       "      <td>cat</td>\n",
       "      <td>cat</td>\n",
       "      <td>dog</td>\n",
       "      <td>cat</td>\n",
       "      <td>cat</td>\n",
       "      <td>dog</td>\n",
       "    </tr>\n",
       "  </tbody>\n",
       "</table>\n",
       "</div>"
      ],
      "text/plain": [
       "   actual model1 model2 model3 model4 baseline\n",
       "0     cat    cat    dog    cat    dog      dog\n",
       "4     cat    cat    cat    dog    dog      dog\n",
       "6     cat    cat    cat    cat    dog      dog\n",
       "7     cat    dog    cat    cat    dog      dog\n",
       "11    cat    cat    dog    cat    cat      dog"
      ]
     },
     "execution_count": 37,
     "metadata": {},
     "output_type": "execute_result"
    }
   ],
   "source": [
    "subset = df[df.actual == 'cat']\n",
    "subset.head()"
   ]
  },
  {
   "cell_type": "code",
   "execution_count": 38,
   "id": "db256ded",
   "metadata": {},
   "outputs": [
    {
     "data": {
      "text/plain": [
       "0.8150057273768614"
      ]
     },
     "execution_count": 38,
     "metadata": {},
     "output_type": "execute_result"
    }
   ],
   "source": [
    "# Model 1 Recall\n",
    "(subset.actual == subset.model1).mean()"
   ]
  },
  {
   "cell_type": "code",
   "execution_count": 39,
   "id": "935d8f88",
   "metadata": {},
   "outputs": [
    {
     "data": {
      "text/plain": [
       "0.8906071019473081"
      ]
     },
     "execution_count": 39,
     "metadata": {},
     "output_type": "execute_result"
    }
   ],
   "source": [
    "# Model 2 Recall\n",
    "(subset.actual == subset.model2).mean()"
   ]
  },
  {
   "cell_type": "code",
   "execution_count": 40,
   "id": "a6de52c3",
   "metadata": {},
   "outputs": [
    {
     "data": {
      "text/plain": [
       "0.5114547537227949"
      ]
     },
     "execution_count": 40,
     "metadata": {},
     "output_type": "execute_result"
    }
   ],
   "source": [
    "# Model 3 Recall\n",
    "(subset.actual == subset.model3).mean()"
   ]
  },
  {
   "cell_type": "code",
   "execution_count": 41,
   "id": "73d6f2f5",
   "metadata": {},
   "outputs": [
    {
     "data": {
      "text/plain": [
       "0.34536082474226804"
      ]
     },
     "execution_count": 41,
     "metadata": {},
     "output_type": "execute_result"
    }
   ],
   "source": [
    "# Model 4 Recall\n",
    "(subset.actual == subset.model4).mean()"
   ]
  },
  {
   "cell_type": "code",
   "execution_count": 42,
   "id": "0e90da0d",
   "metadata": {},
   "outputs": [
    {
     "ename": "SyntaxError",
     "evalue": "invalid syntax (3557394482.py, line 3)",
     "output_type": "error",
     "traceback": [
      "\u001b[0;36m  File \u001b[0;32m\"/var/folders/vb/2f5pphz943qdprdg5zvhqsbm0000gp/T/ipykernel_97797/3557394482.py\"\u001b[0;36m, line \u001b[0;32m3\u001b[0m\n\u001b[0;31m    **Phase-1**\u001b[0m\n\u001b[0m    ^\u001b[0m\n\u001b[0;31mSyntaxError\u001b[0m\u001b[0;31m:\u001b[0m invalid syntax\n"
     ]
    }
   ],
   "source": [
    "- Are any of the models better than the baseline?\n",
    "\n",
    "**Phase-1**\n",
    "\n",
    "- Cat Pictures, Phase-1 model is Model 2 with Recall of 0.89"
   ]
  },
  {
   "cell_type": "code",
   "execution_count": null,
   "id": "a197c7a6",
   "metadata": {},
   "outputs": [],
   "source": [
    "# Confusion Matrix for model 2\n",
    "pd.crosstab(df.model2, df.actual)"
   ]
  },
  {
   "cell_type": "markdown",
   "id": "909bd72d",
   "metadata": {},
   "source": [
    "**Phase-2**\n",
    "\n",
    "-Photos that have been initially identified are put through another round of review\n",
    "\n",
    "-Precision is the appropriate metric since we are trying to minimize false positives"
   ]
  },
  {
   "cell_type": "code",
   "execution_count": null,
   "id": "d3fd51a6",
   "metadata": {},
   "outputs": [],
   "source": [
    "df.head()"
   ]
  },
  {
   "cell_type": "code",
   "execution_count": null,
   "id": "d6fc90c5",
   "metadata": {},
   "outputs": [],
   "source": [
    "subset1 = df[df.model1 == 'cat']\n",
    "subset2 = df[df.model2 == 'cat']\n",
    "subset3 = df[df.model3 == 'cat']\n",
    "subset4 = df[df.model4 == 'cat']"
   ]
  },
  {
   "cell_type": "code",
   "execution_count": null,
   "id": "db6c17fd",
   "metadata": {},
   "outputs": [],
   "source": [
    "# subset1 for model 1\n",
    "subset1.head()"
   ]
  },
  {
   "cell_type": "code",
   "execution_count": null,
   "id": "d2f86957",
   "metadata": {},
   "outputs": [],
   "source": [
    "# Model 1 Precision\n",
    "(subset1.actual == subset1.model1).mean()"
   ]
  },
  {
   "cell_type": "code",
   "execution_count": null,
   "id": "83250d3d",
   "metadata": {},
   "outputs": [],
   "source": [
    "# Model 2 Precision\n",
    "(subset2.actual == subset2.model2).mean()"
   ]
  },
  {
   "cell_type": "code",
   "execution_count": null,
   "id": "7db9df58",
   "metadata": {},
   "outputs": [],
   "source": [
    "# Model 3 Precision\n",
    "(subset3.actual == subset3.model3).mean()"
   ]
  },
  {
   "cell_type": "code",
   "execution_count": null,
   "id": "e6e4c5b4",
   "metadata": {},
   "outputs": [],
   "source": [
    "# Model 4 Precision\n",
    "(subset4.actual == subset4.model4).mean()"
   ]
  },
  {
   "cell_type": "code",
   "execution_count": null,
   "id": "7b4ed30b",
   "metadata": {},
   "outputs": [],
   "source": [
    "pd.crosstab(df.model4, df.actual)"
   ]
  },
  {
   "cell_type": "markdown",
   "id": "f730b735",
   "metadata": {},
   "source": [
    "**--> Cat Pictures Phase-2 model is Model 4 with Precision of 0.81**"
   ]
  },
  {
   "cell_type": "markdown",
   "id": "48d14027",
   "metadata": {},
   "source": [
    "**------------------------------------------------------------------>**"
   ]
  },
  {
   "cell_type": "markdown",
   "id": "851a6892",
   "metadata": {},
   "source": [
    "**Cat = Positive**"
   ]
  },
  {
   "cell_type": "code",
   "execution_count": 60,
   "id": "978347d3",
   "metadata": {},
   "outputs": [],
   "source": [
    "from sklearn.metrics import classification_report\n"
   ]
  },
  {
   "cell_type": "code",
   "execution_count": 64,
   "id": "e3035851",
   "metadata": {},
   "outputs": [
    {
     "data": {
      "text/html": [
       "<div>\n",
       "<style scoped>\n",
       "    .dataframe tbody tr th:only-of-type {\n",
       "        vertical-align: middle;\n",
       "    }\n",
       "\n",
       "    .dataframe tbody tr th {\n",
       "        vertical-align: top;\n",
       "    }\n",
       "\n",
       "    .dataframe thead th {\n",
       "        text-align: right;\n",
       "    }\n",
       "</style>\n",
       "<table border=\"1\" class=\"dataframe\">\n",
       "  <thead>\n",
       "    <tr style=\"text-align: right;\">\n",
       "      <th></th>\n",
       "      <th>actual</th>\n",
       "      <th>model1</th>\n",
       "      <th>model2</th>\n",
       "      <th>model3</th>\n",
       "      <th>model4</th>\n",
       "      <th>baseline</th>\n",
       "    </tr>\n",
       "  </thead>\n",
       "  <tbody>\n",
       "    <tr>\n",
       "      <th>0</th>\n",
       "      <td>cat</td>\n",
       "      <td>cat</td>\n",
       "      <td>dog</td>\n",
       "      <td>cat</td>\n",
       "      <td>dog</td>\n",
       "      <td>dog</td>\n",
       "    </tr>\n",
       "    <tr>\n",
       "      <th>1</th>\n",
       "      <td>dog</td>\n",
       "      <td>dog</td>\n",
       "      <td>cat</td>\n",
       "      <td>cat</td>\n",
       "      <td>dog</td>\n",
       "      <td>dog</td>\n",
       "    </tr>\n",
       "    <tr>\n",
       "      <th>2</th>\n",
       "      <td>dog</td>\n",
       "      <td>cat</td>\n",
       "      <td>cat</td>\n",
       "      <td>cat</td>\n",
       "      <td>dog</td>\n",
       "      <td>dog</td>\n",
       "    </tr>\n",
       "    <tr>\n",
       "      <th>3</th>\n",
       "      <td>dog</td>\n",
       "      <td>dog</td>\n",
       "      <td>dog</td>\n",
       "      <td>cat</td>\n",
       "      <td>dog</td>\n",
       "      <td>dog</td>\n",
       "    </tr>\n",
       "    <tr>\n",
       "      <th>4</th>\n",
       "      <td>cat</td>\n",
       "      <td>cat</td>\n",
       "      <td>cat</td>\n",
       "      <td>dog</td>\n",
       "      <td>dog</td>\n",
       "      <td>dog</td>\n",
       "    </tr>\n",
       "  </tbody>\n",
       "</table>\n",
       "</div>"
      ],
      "text/plain": [
       "  actual model1 model2 model3 model4 baseline\n",
       "0    cat    cat    dog    cat    dog      dog\n",
       "1    dog    dog    cat    cat    dog      dog\n",
       "2    dog    cat    cat    cat    dog      dog\n",
       "3    dog    dog    dog    cat    dog      dog\n",
       "4    cat    cat    cat    dog    dog      dog"
      ]
     },
     "execution_count": 64,
     "metadata": {},
     "output_type": "execute_result"
    }
   ],
   "source": [
    "df.head()"
   ]
  },
  {
   "cell_type": "code",
   "execution_count": 65,
   "id": "b9051c59",
   "metadata": {},
   "outputs": [
    {
     "data": {
      "text/html": [
       "<div>\n",
       "<style scoped>\n",
       "    .dataframe tbody tr th:only-of-type {\n",
       "        vertical-align: middle;\n",
       "    }\n",
       "\n",
       "    .dataframe tbody tr th {\n",
       "        vertical-align: top;\n",
       "    }\n",
       "\n",
       "    .dataframe thead th {\n",
       "        text-align: right;\n",
       "    }\n",
       "</style>\n",
       "<table border=\"1\" class=\"dataframe\">\n",
       "  <thead>\n",
       "    <tr style=\"text-align: right;\">\n",
       "      <th></th>\n",
       "      <th>precision</th>\n",
       "      <th>recall</th>\n",
       "      <th>f1-score</th>\n",
       "      <th>support</th>\n",
       "    </tr>\n",
       "  </thead>\n",
       "  <tbody>\n",
       "    <tr>\n",
       "      <th>cat</th>\n",
       "      <td>0.689772</td>\n",
       "      <td>0.815006</td>\n",
       "      <td>0.747178</td>\n",
       "      <td>1746.0000</td>\n",
       "    </tr>\n",
       "    <tr>\n",
       "      <th>dog</th>\n",
       "      <td>0.890024</td>\n",
       "      <td>0.803319</td>\n",
       "      <td>0.844452</td>\n",
       "      <td>3254.0000</td>\n",
       "    </tr>\n",
       "    <tr>\n",
       "      <th>accuracy</th>\n",
       "      <td>0.807400</td>\n",
       "      <td>0.807400</td>\n",
       "      <td>0.807400</td>\n",
       "      <td>0.8074</td>\n",
       "    </tr>\n",
       "    <tr>\n",
       "      <th>macro avg</th>\n",
       "      <td>0.789898</td>\n",
       "      <td>0.809162</td>\n",
       "      <td>0.795815</td>\n",
       "      <td>5000.0000</td>\n",
       "    </tr>\n",
       "    <tr>\n",
       "      <th>weighted avg</th>\n",
       "      <td>0.820096</td>\n",
       "      <td>0.807400</td>\n",
       "      <td>0.810484</td>\n",
       "      <td>5000.0000</td>\n",
       "    </tr>\n",
       "  </tbody>\n",
       "</table>\n",
       "</div>"
      ],
      "text/plain": [
       "              precision    recall  f1-score    support\n",
       "cat            0.689772  0.815006  0.747178  1746.0000\n",
       "dog            0.890024  0.803319  0.844452  3254.0000\n",
       "accuracy       0.807400  0.807400  0.807400     0.8074\n",
       "macro avg      0.789898  0.809162  0.795815  5000.0000\n",
       "weighted avg   0.820096  0.807400  0.810484  5000.0000"
      ]
     },
     "execution_count": 65,
     "metadata": {},
     "output_type": "execute_result"
    }
   ],
   "source": [
    "x = classification_report(df.actual, df.model1, output_dict=True)\n",
    "pd.DataFrame(x).T"
   ]
  },
  {
   "cell_type": "code",
   "execution_count": 66,
   "id": "2af5cc71",
   "metadata": {},
   "outputs": [
    {
     "name": "stdout",
     "output_type": "stream",
     "text": [
      "Model 1\n"
     ]
    },
    {
     "data": {
      "text/html": [
       "<div>\n",
       "<style scoped>\n",
       "    .dataframe tbody tr th:only-of-type {\n",
       "        vertical-align: middle;\n",
       "    }\n",
       "\n",
       "    .dataframe tbody tr th {\n",
       "        vertical-align: top;\n",
       "    }\n",
       "\n",
       "    .dataframe thead th {\n",
       "        text-align: right;\n",
       "    }\n",
       "</style>\n",
       "<table border=\"1\" class=\"dataframe\">\n",
       "  <thead>\n",
       "    <tr style=\"text-align: right;\">\n",
       "      <th></th>\n",
       "      <th>precision</th>\n",
       "      <th>recall</th>\n",
       "      <th>f1-score</th>\n",
       "      <th>support</th>\n",
       "    </tr>\n",
       "  </thead>\n",
       "  <tbody>\n",
       "    <tr>\n",
       "      <th>cat</th>\n",
       "      <td>0.689772</td>\n",
       "      <td>0.815006</td>\n",
       "      <td>0.747178</td>\n",
       "      <td>1746.0000</td>\n",
       "    </tr>\n",
       "    <tr>\n",
       "      <th>dog</th>\n",
       "      <td>0.890024</td>\n",
       "      <td>0.803319</td>\n",
       "      <td>0.844452</td>\n",
       "      <td>3254.0000</td>\n",
       "    </tr>\n",
       "    <tr>\n",
       "      <th>accuracy</th>\n",
       "      <td>0.807400</td>\n",
       "      <td>0.807400</td>\n",
       "      <td>0.807400</td>\n",
       "      <td>0.8074</td>\n",
       "    </tr>\n",
       "    <tr>\n",
       "      <th>macro avg</th>\n",
       "      <td>0.789898</td>\n",
       "      <td>0.809162</td>\n",
       "      <td>0.795815</td>\n",
       "      <td>5000.0000</td>\n",
       "    </tr>\n",
       "    <tr>\n",
       "      <th>weighted avg</th>\n",
       "      <td>0.820096</td>\n",
       "      <td>0.807400</td>\n",
       "      <td>0.810484</td>\n",
       "      <td>5000.0000</td>\n",
       "    </tr>\n",
       "  </tbody>\n",
       "</table>\n",
       "</div>"
      ],
      "text/plain": [
       "              precision    recall  f1-score    support\n",
       "cat            0.689772  0.815006  0.747178  1746.0000\n",
       "dog            0.890024  0.803319  0.844452  3254.0000\n",
       "accuracy       0.807400  0.807400  0.807400     0.8074\n",
       "macro avg      0.789898  0.809162  0.795815  5000.0000\n",
       "weighted avg   0.820096  0.807400  0.810484  5000.0000"
      ]
     },
     "execution_count": 66,
     "metadata": {},
     "output_type": "execute_result"
    }
   ],
   "source": [
    "print(\"Model 1\")\n",
    "pd.DataFrame(classification_report(df.actual, df.model1,\n",
    "                                   labels = ['cat', 'dog'],\n",
    "                                   output_dict=True)).T"
   ]
  },
  {
   "cell_type": "code",
   "execution_count": 67,
   "id": "7248d54d",
   "metadata": {},
   "outputs": [
    {
     "name": "stdout",
     "output_type": "stream",
     "text": [
      "Model 2\n"
     ]
    },
    {
     "data": {
      "text/html": [
       "<div>\n",
       "<style scoped>\n",
       "    .dataframe tbody tr th:only-of-type {\n",
       "        vertical-align: middle;\n",
       "    }\n",
       "\n",
       "    .dataframe tbody tr th {\n",
       "        vertical-align: top;\n",
       "    }\n",
       "\n",
       "    .dataframe thead th {\n",
       "        text-align: right;\n",
       "    }\n",
       "</style>\n",
       "<table border=\"1\" class=\"dataframe\">\n",
       "  <thead>\n",
       "    <tr style=\"text-align: right;\">\n",
       "      <th></th>\n",
       "      <th>precision</th>\n",
       "      <th>recall</th>\n",
       "      <th>f1-score</th>\n",
       "      <th>support</th>\n",
       "    </tr>\n",
       "  </thead>\n",
       "  <tbody>\n",
       "    <tr>\n",
       "      <th>cat</th>\n",
       "      <td>0.484122</td>\n",
       "      <td>0.890607</td>\n",
       "      <td>0.627269</td>\n",
       "      <td>1746.0000</td>\n",
       "    </tr>\n",
       "    <tr>\n",
       "      <th>dog</th>\n",
       "      <td>0.893177</td>\n",
       "      <td>0.490781</td>\n",
       "      <td>0.633479</td>\n",
       "      <td>3254.0000</td>\n",
       "    </tr>\n",
       "    <tr>\n",
       "      <th>accuracy</th>\n",
       "      <td>0.630400</td>\n",
       "      <td>0.630400</td>\n",
       "      <td>0.630400</td>\n",
       "      <td>0.6304</td>\n",
       "    </tr>\n",
       "    <tr>\n",
       "      <th>macro avg</th>\n",
       "      <td>0.688649</td>\n",
       "      <td>0.690694</td>\n",
       "      <td>0.630374</td>\n",
       "      <td>5000.0000</td>\n",
       "    </tr>\n",
       "    <tr>\n",
       "      <th>weighted avg</th>\n",
       "      <td>0.750335</td>\n",
       "      <td>0.630400</td>\n",
       "      <td>0.631310</td>\n",
       "      <td>5000.0000</td>\n",
       "    </tr>\n",
       "  </tbody>\n",
       "</table>\n",
       "</div>"
      ],
      "text/plain": [
       "              precision    recall  f1-score    support\n",
       "cat            0.484122  0.890607  0.627269  1746.0000\n",
       "dog            0.893177  0.490781  0.633479  3254.0000\n",
       "accuracy       0.630400  0.630400  0.630400     0.6304\n",
       "macro avg      0.688649  0.690694  0.630374  5000.0000\n",
       "weighted avg   0.750335  0.630400  0.631310  5000.0000"
      ]
     },
     "execution_count": 67,
     "metadata": {},
     "output_type": "execute_result"
    }
   ],
   "source": [
    "print(\"Model 2\")\n",
    "pd.DataFrame(classification_report(df.actual, df.model2, output_dict=True)).T"
   ]
  },
  {
   "cell_type": "code",
   "execution_count": 68,
   "id": "782d4e84",
   "metadata": {},
   "outputs": [
    {
     "name": "stdout",
     "output_type": "stream",
     "text": [
      "Model 3\n"
     ]
    },
    {
     "data": {
      "text/html": [
       "<div>\n",
       "<style scoped>\n",
       "    .dataframe tbody tr th:only-of-type {\n",
       "        vertical-align: middle;\n",
       "    }\n",
       "\n",
       "    .dataframe tbody tr th {\n",
       "        vertical-align: top;\n",
       "    }\n",
       "\n",
       "    .dataframe thead th {\n",
       "        text-align: right;\n",
       "    }\n",
       "</style>\n",
       "<table border=\"1\" class=\"dataframe\">\n",
       "  <thead>\n",
       "    <tr style=\"text-align: right;\">\n",
       "      <th></th>\n",
       "      <th>precision</th>\n",
       "      <th>recall</th>\n",
       "      <th>f1-score</th>\n",
       "      <th>support</th>\n",
       "    </tr>\n",
       "  </thead>\n",
       "  <tbody>\n",
       "    <tr>\n",
       "      <th>cat</th>\n",
       "      <td>0.358347</td>\n",
       "      <td>0.511455</td>\n",
       "      <td>0.421425</td>\n",
       "      <td>1746.0000</td>\n",
       "    </tr>\n",
       "    <tr>\n",
       "      <th>dog</th>\n",
       "      <td>0.659888</td>\n",
       "      <td>0.508605</td>\n",
       "      <td>0.574453</td>\n",
       "      <td>3254.0000</td>\n",
       "    </tr>\n",
       "    <tr>\n",
       "      <th>accuracy</th>\n",
       "      <td>0.509600</td>\n",
       "      <td>0.509600</td>\n",
       "      <td>0.509600</td>\n",
       "      <td>0.5096</td>\n",
       "    </tr>\n",
       "    <tr>\n",
       "      <th>macro avg</th>\n",
       "      <td>0.509118</td>\n",
       "      <td>0.510030</td>\n",
       "      <td>0.497939</td>\n",
       "      <td>5000.0000</td>\n",
       "    </tr>\n",
       "    <tr>\n",
       "      <th>weighted avg</th>\n",
       "      <td>0.554590</td>\n",
       "      <td>0.509600</td>\n",
       "      <td>0.521016</td>\n",
       "      <td>5000.0000</td>\n",
       "    </tr>\n",
       "  </tbody>\n",
       "</table>\n",
       "</div>"
      ],
      "text/plain": [
       "              precision    recall  f1-score    support\n",
       "cat            0.358347  0.511455  0.421425  1746.0000\n",
       "dog            0.659888  0.508605  0.574453  3254.0000\n",
       "accuracy       0.509600  0.509600  0.509600     0.5096\n",
       "macro avg      0.509118  0.510030  0.497939  5000.0000\n",
       "weighted avg   0.554590  0.509600  0.521016  5000.0000"
      ]
     },
     "execution_count": 68,
     "metadata": {},
     "output_type": "execute_result"
    }
   ],
   "source": [
    "print(\"Model 3\")\n",
    "pd.DataFrame(classification_report(df.actual, df.model3,\n",
    "                                   labels = ['cat', 'dog'],\n",
    "                                   output_dict=True)).T"
   ]
  },
  {
   "cell_type": "code",
   "execution_count": 69,
   "id": "9d8f5471",
   "metadata": {},
   "outputs": [
    {
     "name": "stdout",
     "output_type": "stream",
     "text": [
      "Model 4\n"
     ]
    },
    {
     "data": {
      "text/html": [
       "<div>\n",
       "<style scoped>\n",
       "    .dataframe tbody tr th:only-of-type {\n",
       "        vertical-align: middle;\n",
       "    }\n",
       "\n",
       "    .dataframe tbody tr th {\n",
       "        vertical-align: top;\n",
       "    }\n",
       "\n",
       "    .dataframe thead th {\n",
       "        text-align: right;\n",
       "    }\n",
       "</style>\n",
       "<table border=\"1\" class=\"dataframe\">\n",
       "  <thead>\n",
       "    <tr style=\"text-align: right;\">\n",
       "      <th></th>\n",
       "      <th>precision</th>\n",
       "      <th>recall</th>\n",
       "      <th>f1-score</th>\n",
       "      <th>support</th>\n",
       "    </tr>\n",
       "  </thead>\n",
       "  <tbody>\n",
       "    <tr>\n",
       "      <th>cat</th>\n",
       "      <td>0.807229</td>\n",
       "      <td>0.345361</td>\n",
       "      <td>0.483755</td>\n",
       "      <td>1746.0000</td>\n",
       "    </tr>\n",
       "    <tr>\n",
       "      <th>dog</th>\n",
       "      <td>0.731249</td>\n",
       "      <td>0.955747</td>\n",
       "      <td>0.828560</td>\n",
       "      <td>3254.0000</td>\n",
       "    </tr>\n",
       "    <tr>\n",
       "      <th>accuracy</th>\n",
       "      <td>0.742600</td>\n",
       "      <td>0.742600</td>\n",
       "      <td>0.742600</td>\n",
       "      <td>0.7426</td>\n",
       "    </tr>\n",
       "    <tr>\n",
       "      <th>macro avg</th>\n",
       "      <td>0.769239</td>\n",
       "      <td>0.650554</td>\n",
       "      <td>0.656157</td>\n",
       "      <td>5000.0000</td>\n",
       "    </tr>\n",
       "    <tr>\n",
       "      <th>weighted avg</th>\n",
       "      <td>0.757781</td>\n",
       "      <td>0.742600</td>\n",
       "      <td>0.708154</td>\n",
       "      <td>5000.0000</td>\n",
       "    </tr>\n",
       "  </tbody>\n",
       "</table>\n",
       "</div>"
      ],
      "text/plain": [
       "              precision    recall  f1-score    support\n",
       "cat            0.807229  0.345361  0.483755  1746.0000\n",
       "dog            0.731249  0.955747  0.828560  3254.0000\n",
       "accuracy       0.742600  0.742600  0.742600     0.7426\n",
       "macro avg      0.769239  0.650554  0.656157  5000.0000\n",
       "weighted avg   0.757781  0.742600  0.708154  5000.0000"
      ]
     },
     "execution_count": 69,
     "metadata": {},
     "output_type": "execute_result"
    }
   ],
   "source": [
    "print(\"Model 4\")\n",
    "pd.DataFrame(classification_report(df.actual, df.model4,\n",
    "                                   labels = ['cat', 'dog'],\n",
    "                                   output_dict=True)).T"
   ]
  },
  {
   "cell_type": "code",
   "execution_count": 70,
   "id": "0082d4ae",
   "metadata": {},
   "outputs": [
    {
     "name": "stdout",
     "output_type": "stream",
     "text": [
      "Model 4\n",
      "              precision    recall  f1-score   support\n",
      "\n",
      "         cat       0.81      0.35      0.48      1746\n",
      "         dog       0.73      0.96      0.83      3254\n",
      "\n",
      "    accuracy                           0.74      5000\n",
      "   macro avg       0.77      0.65      0.66      5000\n",
      "weighted avg       0.76      0.74      0.71      5000\n",
      "\n"
     ]
    }
   ],
   "source": [
    "print(\"Model 4\")\n",
    "print(classification_report(df.actual, df.model4))"
   ]
  },
  {
   "cell_type": "markdown",
   "id": "48053cb3",
   "metadata": {},
   "source": [
    "- Cat Picture's Phase-1 model is Model 2 with Recall of 0.89\n",
    "- Cat Picture's Phase-2 model is Model 4 with Precision of 0.81\n"
   ]
  },
  {
   "cell_type": "code",
   "execution_count": 71,
   "id": "9cebafab",
   "metadata": {},
   "outputs": [],
   "source": [
    "from sklearn.metrics import precision_score, recall_score\n"
   ]
  },
  {
   "cell_type": "code",
   "execution_count": 72,
   "id": "751a97b9",
   "metadata": {},
   "outputs": [
    {
     "data": {
      "text/html": [
       "<div>\n",
       "<style scoped>\n",
       "    .dataframe tbody tr th:only-of-type {\n",
       "        vertical-align: middle;\n",
       "    }\n",
       "\n",
       "    .dataframe tbody tr th {\n",
       "        vertical-align: top;\n",
       "    }\n",
       "\n",
       "    .dataframe thead th {\n",
       "        text-align: right;\n",
       "    }\n",
       "</style>\n",
       "<table border=\"1\" class=\"dataframe\">\n",
       "  <thead>\n",
       "    <tr style=\"text-align: right;\">\n",
       "      <th></th>\n",
       "      <th>recall</th>\n",
       "      <th>precision</th>\n",
       "    </tr>\n",
       "  </thead>\n",
       "  <tbody>\n",
       "    <tr>\n",
       "      <th>model1</th>\n",
       "      <td>0.803319</td>\n",
       "      <td>0.890024</td>\n",
       "    </tr>\n",
       "    <tr>\n",
       "      <th>model2</th>\n",
       "      <td>0.490781</td>\n",
       "      <td>0.893177</td>\n",
       "    </tr>\n",
       "    <tr>\n",
       "      <th>model3</th>\n",
       "      <td>0.508605</td>\n",
       "      <td>0.659888</td>\n",
       "    </tr>\n",
       "    <tr>\n",
       "      <th>model4</th>\n",
       "      <td>0.955747</td>\n",
       "      <td>0.731249</td>\n",
       "    </tr>\n",
       "    <tr>\n",
       "      <th>baseline</th>\n",
       "      <td>1.000000</td>\n",
       "      <td>0.650800</td>\n",
       "    </tr>\n",
       "  </tbody>\n",
       "</table>\n",
       "</div>"
      ],
      "text/plain": [
       "            recall  precision\n",
       "model1    0.803319   0.890024\n",
       "model2    0.490781   0.893177\n",
       "model3    0.508605   0.659888\n",
       "model4    0.955747   0.731249\n",
       "baseline  1.000000   0.650800"
      ]
     },
     "execution_count": 72,
     "metadata": {},
     "output_type": "execute_result"
    }
   ],
   "source": [
    "def calculate_precision(predictions, positive='dog'):\n",
    "    return precision_score(df.actual, predictions, pos_label=positive)\n",
    "\n",
    "def calculate_recall(predictions, positive='dog'):\n",
    "    return recall_score(df.actual, predictions, pos_label=positive)\n",
    "\n",
    "pd.concat([\n",
    "    df.loc[:, 'model1':'baseline'].apply(calculate_recall).rename('recall'),\n",
    "    df.loc[:, 'model1':'baseline'].apply(calculate_precision).rename('precision'),\n",
    "], axis=1)"
   ]
  },
  {
   "cell_type": "code",
   "execution_count": null,
   "id": "9f79bb69",
   "metadata": {},
   "outputs": [],
   "source": []
  }
 ],
 "metadata": {
  "kernelspec": {
   "display_name": "Python 3 (ipykernel)",
   "language": "python",
   "name": "python3"
  },
  "language_info": {
   "codemirror_mode": {
    "name": "ipython",
    "version": 3
   },
   "file_extension": ".py",
   "mimetype": "text/x-python",
   "name": "python",
   "nbconvert_exporter": "python",
   "pygments_lexer": "ipython3",
   "version": "3.9.7"
  }
 },
 "nbformat": 4,
 "nbformat_minor": 5
}
